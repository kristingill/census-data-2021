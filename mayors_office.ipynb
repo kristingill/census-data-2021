{
 "cells": [
  {
   "cell_type": "code",
   "execution_count": 1,
   "id": "558a56e4",
   "metadata": {},
   "outputs": [],
   "source": [
    "import pandas as pd"
   ]
  },
  {
   "cell_type": "markdown",
   "id": "b68c77fd",
   "metadata": {},
   "source": [
    "ACCOMMODATION TYPE"
   ]
  },
  {
   "cell_type": "code",
   "execution_count": 2,
   "id": "cfbac53e",
   "metadata": {},
   "outputs": [],
   "source": [
    "accommodation_type = pd.read_csv('TS044-2021-1-filtered-2023-01-23T09_05_19Z.csv')\n",
    "accommodation_type = accommodation_type.drop(columns = ['Output Areas'])\n",
    "accommodation_type = accommodation_type.rename(columns={'Observation': 'Observation_accommodation'})\n",
    "\n",
    "accommodation = accommodation_type[accommodation_type['Output Areas Code'] == 'E00009198']"
   ]
  },
  {
   "cell_type": "code",
   "execution_count": 3,
   "id": "f86c6467",
   "metadata": {},
   "outputs": [],
   "source": [
    "accommodation_pivoted = accommodation_type.pivot(index=\"Output Areas Code\", columns=\"Accommodation type (8 categories)\", values=\"Observation_accommodation\")\n",
    "accommodation_pivoted = accommodation_pivoted.rename(columns ={'Semi-detached':'semi_detached', 'In a purpose-built block of flats or tenement':'flat_tenement', 'Part of a converted or shared house, including bedsits':'house', 'A caravan or other mobile or temporary structure':'caravan','In a commercial building, for example, in an office building, hotel or over a shop':'commercial', 'Part of another converted building, for example, former school, church or warehouse':'converted'})"
   ]
  },
  {
   "cell_type": "code",
   "execution_count": 4,
   "id": "40b04e25",
   "metadata": {},
   "outputs": [],
   "source": [
    "accommodation_pivoted['detached/semi/terraced'] = accommodation_pivoted.Detached + accommodation_pivoted.semi_detached + accommodation_pivoted.Terraced\n",
    "accommodation_pivoted = accommodation_pivoted.drop(columns =['Detached', 'semi_detached', 'Terraced'])"
   ]
  },
  {
   "cell_type": "code",
   "execution_count": 5,
   "id": "ceb96d13",
   "metadata": {},
   "outputs": [],
   "source": [
    "accommodation_pivoted['flat/whole_house'] = accommodation_pivoted.flat_tenement + accommodation_pivoted.house\n",
    "accommodation_pivoted = accommodation_pivoted.drop(columns =['flat_tenement', 'house'])"
   ]
  },
  {
   "cell_type": "code",
   "execution_count": 6,
   "id": "6184797e",
   "metadata": {},
   "outputs": [],
   "source": [
    "accommodation_pivoted['other_accommodation'] = accommodation_pivoted.caravan + accommodation_pivoted.commercial + accommodation_pivoted.converted\n",
    "accommodation_pivoted = accommodation_pivoted.drop(columns =['caravan', 'commercial', 'converted'])"
   ]
  },
  {
   "cell_type": "markdown",
   "id": "95a28baa",
   "metadata": {},
   "source": [
    "HEATING"
   ]
  },
  {
   "cell_type": "code",
   "execution_count": 8,
   "id": "f7e5866e",
   "metadata": {},
   "outputs": [],
   "source": [
    "heating = pd.read_csv('TS046-2021-1-filtered-2023-01-23T09_05_38Z.csv')\n",
    "heating = heating.drop(columns = ['Output Areas'])\n",
    "heating = heating.rename(columns={'Observation': 'Observation_heating'})"
   ]
  },
  {
   "cell_type": "code",
   "execution_count": 9,
   "id": "a4d94e91",
   "metadata": {},
   "outputs": [],
   "source": [
    "heating_pivoted = heating.pivot(index=\"Output Areas Code\", columns=\"Type of central heating in household (13 categories)\", values=\"Observation_heating\")"
   ]
  },
  {
   "cell_type": "markdown",
   "id": "950674e3",
   "metadata": {},
   "source": [
    "BEDROOMS"
   ]
  },
  {
   "cell_type": "code",
   "execution_count": 10,
   "id": "07c38514",
   "metadata": {},
   "outputs": [],
   "source": [
    "bedrooms = pd.read_csv('TS050-2021-1-filtered-2023-01-23T09_06_02Z.csv')\n",
    "bedrooms = bedrooms.drop(columns = ['Output Areas'])\n",
    "bedrooms = bedrooms.rename(columns={'Observation': 'Observation_bedrooms'})"
   ]
  },
  {
   "cell_type": "code",
   "execution_count": 11,
   "id": "583dcc84",
   "metadata": {},
   "outputs": [],
   "source": [
    "bedrooms_pivoted = bedrooms.pivot(index=\"Output Areas Code\", columns=\"Number of Bedrooms (5 categories)\", values=\"Observation_bedrooms\")"
   ]
  },
  {
   "cell_type": "markdown",
   "id": "e2c8e3a6",
   "metadata": {},
   "source": [
    "ROOMS"
   ]
  },
  {
   "cell_type": "code",
   "execution_count": 12,
   "id": "262b8397",
   "metadata": {},
   "outputs": [],
   "source": [
    "rooms = pd.read_csv('TS051-2021-1-filtered-2023-01-23T09_06_23Z.csv')\n",
    "rooms = rooms.drop(columns = ['Output Areas'])\n",
    "rooms = rooms.rename(columns={'Observation': 'Observation_rooms'})"
   ]
  },
  {
   "cell_type": "code",
   "execution_count": 13,
   "id": "4988c088",
   "metadata": {},
   "outputs": [],
   "source": [
    "rooms_pivoted = rooms.pivot(index=\"Output Areas Code\", columns=\"Number of rooms (Valuation Office Agency) (9 categories)\", values=\"Observation_rooms\")"
   ]
  },
  {
   "cell_type": "markdown",
   "id": "07186f03",
   "metadata": {},
   "source": [
    "TENURE"
   ]
  },
  {
   "cell_type": "code",
   "execution_count": 14,
   "id": "270cef74",
   "metadata": {},
   "outputs": [],
   "source": [
    "tenure = pd.read_csv('TS054-2021-1-filtered-2023-01-23T09_04_52Z.csv')\n",
    "tenure = tenure.drop(columns = ['Output Areas'])\n",
    "tenure = tenure.rename(columns={'Observation': 'Observation_tenure'})"
   ]
  },
  {
   "cell_type": "code",
   "execution_count": 15,
   "id": "b1f1f644",
   "metadata": {},
   "outputs": [],
   "source": [
    "tenure_pivoted = tenure.pivot(index=\"Output Areas Code\", columns=\"Tenure of household (9 categories)\", values=\"Observation_tenure\")\n",
    "tenure_pivoted = tenure_pivoted.rename(columns = {'Owned: Owns outright':'own_outright', 'Owned: Owns with a mortgage or loan':'own_mortgage', 'Private rented: Other private rented':'private_rent', 'Shared ownership: Shared ownership':'shared_ownership', 'Social rented: Other social rented':'social_rent', 'Social rented: Rents from council or Local Authority':'social_local_authority', 'Private rented: Private landlord or letting agency':'private_rent_agency'})"
   ]
  },
  {
   "cell_type": "code",
   "execution_count": 16,
   "id": "7c2459d7",
   "metadata": {},
   "outputs": [],
   "source": [
    "tenure_pivoted['owner_occupied'] = tenure_pivoted.own_outright + tenure_pivoted.shared_ownership + tenure_pivoted.own_mortgage\n",
    "tenure_pivoted = tenure_pivoted.drop(columns =['Does not apply', 'Lives rent free', 'own_outright', 'shared_ownership', 'own_mortgage'])"
   ]
  },
  {
   "cell_type": "code",
   "execution_count": 17,
   "id": "4e54c770",
   "metadata": {},
   "outputs": [],
   "source": [
    "tenure_pivoted['private_rented'] = tenure_pivoted.private_rent + tenure_pivoted.private_rent_agency\n",
    "tenure_pivoted = tenure_pivoted.drop(columns =['private_rent', 'private_rent_agency'])"
   ]
  },
  {
   "cell_type": "code",
   "execution_count": 18,
   "id": "cef72e1b",
   "metadata": {},
   "outputs": [],
   "source": [
    "tenure_pivoted['social_rented'] = tenure_pivoted.social_rent + tenure_pivoted.social_local_authority\n",
    "tenure_pivoted = tenure_pivoted.drop(columns =['social_rent', 'social_local_authority'])"
   ]
  },
  {
   "cell_type": "markdown",
   "id": "8161a58c",
   "metadata": {},
   "source": [
    "MERGE"
   ]
  },
  {
   "cell_type": "code",
   "execution_count": 22,
   "id": "ee972334",
   "metadata": {},
   "outputs": [],
   "source": [
    "data_merged = accommodation_pivoted.merge(rooms_pivoted, on = 'Output Areas Code', how = 'left')"
   ]
  },
  {
   "cell_type": "code",
   "execution_count": 23,
   "id": "5cd08283",
   "metadata": {},
   "outputs": [],
   "source": [
    "data_merged = data_merged.merge(heating_pivoted, on = 'Output Areas Code', how = 'left')"
   ]
  },
  {
   "cell_type": "code",
   "execution_count": 24,
   "id": "91a5117b",
   "metadata": {},
   "outputs": [],
   "source": [
    "data_merged = data_merged.merge(bedrooms_pivoted, on = 'Output Areas Code', how = 'left')"
   ]
  },
  {
   "cell_type": "code",
   "execution_count": 25,
   "id": "b27a122b",
   "metadata": {},
   "outputs": [],
   "source": [
    "data_merged = data_merged.merge(heating_pivoted, on = 'Output Areas Code', how = 'left')"
   ]
  },
  {
   "cell_type": "code",
   "execution_count": 31,
   "id": "ed46a2bf",
   "metadata": {},
   "outputs": [
    {
     "data": {
      "text/html": [
       "<div>\n",
       "<style scoped>\n",
       "    .dataframe tbody tr th:only-of-type {\n",
       "        vertical-align: middle;\n",
       "    }\n",
       "\n",
       "    .dataframe tbody tr th {\n",
       "        vertical-align: top;\n",
       "    }\n",
       "\n",
       "    .dataframe thead th {\n",
       "        text-align: right;\n",
       "    }\n",
       "</style>\n",
       "<table border=\"1\" class=\"dataframe\">\n",
       "  <thead>\n",
       "    <tr style=\"text-align: right;\">\n",
       "      <th></th>\n",
       "      <th>detached/semi/terraced</th>\n",
       "      <th>flat/whole_house</th>\n",
       "      <th>other_accommodation</th>\n",
       "      <th>1 room</th>\n",
       "      <th>2 rooms</th>\n",
       "      <th>3 rooms</th>\n",
       "      <th>4 rooms</th>\n",
       "      <th>5 rooms</th>\n",
       "      <th>6 rooms</th>\n",
       "      <th>7 rooms</th>\n",
       "      <th>...</th>\n",
       "      <th>Tank or bottled gas only_y</th>\n",
       "      <th>Two or more types of central heating (including renewable energy)_y</th>\n",
       "      <th>Two or more types of central heating (not including renewable energy)_y</th>\n",
       "      <th>Wood only_y</th>\n",
       "      <th>owner_occupied_x</th>\n",
       "      <th>private_rented_x</th>\n",
       "      <th>social_rented_x</th>\n",
       "      <th>owner_occupied_y</th>\n",
       "      <th>private_rented_y</th>\n",
       "      <th>social_rented_y</th>\n",
       "    </tr>\n",
       "    <tr>\n",
       "      <th>Output Areas Code</th>\n",
       "      <th></th>\n",
       "      <th></th>\n",
       "      <th></th>\n",
       "      <th></th>\n",
       "      <th></th>\n",
       "      <th></th>\n",
       "      <th></th>\n",
       "      <th></th>\n",
       "      <th></th>\n",
       "      <th></th>\n",
       "      <th></th>\n",
       "      <th></th>\n",
       "      <th></th>\n",
       "      <th></th>\n",
       "      <th></th>\n",
       "      <th></th>\n",
       "      <th></th>\n",
       "      <th></th>\n",
       "      <th></th>\n",
       "      <th></th>\n",
       "      <th></th>\n",
       "    </tr>\n",
       "  </thead>\n",
       "  <tbody>\n",
       "    <tr>\n",
       "      <th>E00000001</th>\n",
       "      <td>1</td>\n",
       "      <td>93</td>\n",
       "      <td>0</td>\n",
       "      <td>0</td>\n",
       "      <td>3</td>\n",
       "      <td>5</td>\n",
       "      <td>8</td>\n",
       "      <td>73</td>\n",
       "      <td>2</td>\n",
       "      <td>2</td>\n",
       "      <td>...</td>\n",
       "      <td>1</td>\n",
       "      <td>0</td>\n",
       "      <td>11</td>\n",
       "      <td>0</td>\n",
       "      <td>72</td>\n",
       "      <td>15</td>\n",
       "      <td>7</td>\n",
       "      <td>72</td>\n",
       "      <td>15</td>\n",
       "      <td>7</td>\n",
       "    </tr>\n",
       "    <tr>\n",
       "      <th>E00000003</th>\n",
       "      <td>12</td>\n",
       "      <td>97</td>\n",
       "      <td>0</td>\n",
       "      <td>1</td>\n",
       "      <td>1</td>\n",
       "      <td>5</td>\n",
       "      <td>11</td>\n",
       "      <td>45</td>\n",
       "      <td>43</td>\n",
       "      <td>1</td>\n",
       "      <td>...</td>\n",
       "      <td>0</td>\n",
       "      <td>0</td>\n",
       "      <td>11</td>\n",
       "      <td>0</td>\n",
       "      <td>91</td>\n",
       "      <td>17</td>\n",
       "      <td>2</td>\n",
       "      <td>91</td>\n",
       "      <td>17</td>\n",
       "      <td>2</td>\n",
       "    </tr>\n",
       "    <tr>\n",
       "      <th>E00000005</th>\n",
       "      <td>1</td>\n",
       "      <td>62</td>\n",
       "      <td>0</td>\n",
       "      <td>1</td>\n",
       "      <td>6</td>\n",
       "      <td>37</td>\n",
       "      <td>9</td>\n",
       "      <td>7</td>\n",
       "      <td>3</td>\n",
       "      <td>0</td>\n",
       "      <td>...</td>\n",
       "      <td>0</td>\n",
       "      <td>0</td>\n",
       "      <td>6</td>\n",
       "      <td>0</td>\n",
       "      <td>40</td>\n",
       "      <td>21</td>\n",
       "      <td>2</td>\n",
       "      <td>40</td>\n",
       "      <td>21</td>\n",
       "      <td>2</td>\n",
       "    </tr>\n",
       "    <tr>\n",
       "      <th>E00000007</th>\n",
       "      <td>2</td>\n",
       "      <td>76</td>\n",
       "      <td>8</td>\n",
       "      <td>1</td>\n",
       "      <td>33</td>\n",
       "      <td>44</td>\n",
       "      <td>4</td>\n",
       "      <td>3</td>\n",
       "      <td>1</td>\n",
       "      <td>0</td>\n",
       "      <td>...</td>\n",
       "      <td>2</td>\n",
       "      <td>1</td>\n",
       "      <td>6</td>\n",
       "      <td>0</td>\n",
       "      <td>29</td>\n",
       "      <td>57</td>\n",
       "      <td>1</td>\n",
       "      <td>29</td>\n",
       "      <td>57</td>\n",
       "      <td>1</td>\n",
       "    </tr>\n",
       "    <tr>\n",
       "      <th>E00000010</th>\n",
       "      <td>0</td>\n",
       "      <td>121</td>\n",
       "      <td>4</td>\n",
       "      <td>20</td>\n",
       "      <td>94</td>\n",
       "      <td>6</td>\n",
       "      <td>2</td>\n",
       "      <td>3</td>\n",
       "      <td>0</td>\n",
       "      <td>0</td>\n",
       "      <td>...</td>\n",
       "      <td>2</td>\n",
       "      <td>0</td>\n",
       "      <td>13</td>\n",
       "      <td>0</td>\n",
       "      <td>25</td>\n",
       "      <td>31</td>\n",
       "      <td>70</td>\n",
       "      <td>25</td>\n",
       "      <td>31</td>\n",
       "      <td>70</td>\n",
       "    </tr>\n",
       "  </tbody>\n",
       "</table>\n",
       "<p>5 rows × 49 columns</p>\n",
       "</div>"
      ],
      "text/plain": [
       "                   detached/semi/terraced  flat/whole_house  \\\n",
       "Output Areas Code                                             \n",
       "E00000001                               1                93   \n",
       "E00000003                              12                97   \n",
       "E00000005                               1                62   \n",
       "E00000007                               2                76   \n",
       "E00000010                               0               121   \n",
       "\n",
       "                   other_accommodation  1 room  2 rooms  3 rooms  4 rooms  \\\n",
       "Output Areas Code                                                           \n",
       "E00000001                            0       0        3        5        8   \n",
       "E00000003                            0       1        1        5       11   \n",
       "E00000005                            0       1        6       37        9   \n",
       "E00000007                            8       1       33       44        4   \n",
       "E00000010                            4      20       94        6        2   \n",
       "\n",
       "                   5 rooms  6 rooms  7 rooms  ...  Tank or bottled gas only_y  \\\n",
       "Output Areas Code                             ...                               \n",
       "E00000001               73        2        2  ...                           1   \n",
       "E00000003               45       43        1  ...                           0   \n",
       "E00000005                7        3        0  ...                           0   \n",
       "E00000007                3        1        0  ...                           2   \n",
       "E00000010                3        0        0  ...                           2   \n",
       "\n",
       "                   Two or more types of central heating (including renewable energy)_y  \\\n",
       "Output Areas Code                                                                        \n",
       "E00000001                                                          0                     \n",
       "E00000003                                                          0                     \n",
       "E00000005                                                          0                     \n",
       "E00000007                                                          1                     \n",
       "E00000010                                                          0                     \n",
       "\n",
       "                   Two or more types of central heating (not including renewable energy)_y  \\\n",
       "Output Areas Code                                                                            \n",
       "E00000001                                                         11                         \n",
       "E00000003                                                         11                         \n",
       "E00000005                                                          6                         \n",
       "E00000007                                                          6                         \n",
       "E00000010                                                         13                         \n",
       "\n",
       "                   Wood only_y  owner_occupied_x  private_rented_x  \\\n",
       "Output Areas Code                                                    \n",
       "E00000001                    0                72                15   \n",
       "E00000003                    0                91                17   \n",
       "E00000005                    0                40                21   \n",
       "E00000007                    0                29                57   \n",
       "E00000010                    0                25                31   \n",
       "\n",
       "                   social_rented_x  owner_occupied_y  private_rented_y  \\\n",
       "Output Areas Code                                                        \n",
       "E00000001                        7                72                15   \n",
       "E00000003                        2                91                17   \n",
       "E00000005                        2                40                21   \n",
       "E00000007                        1                29                57   \n",
       "E00000010                       70                25                31   \n",
       "\n",
       "                   social_rented_y  \n",
       "Output Areas Code                   \n",
       "E00000001                        7  \n",
       "E00000003                        2  \n",
       "E00000005                        2  \n",
       "E00000007                        1  \n",
       "E00000010                       70  \n",
       "\n",
       "[5 rows x 49 columns]"
      ]
     },
     "execution_count": 31,
     "metadata": {},
     "output_type": "execute_result"
    }
   ],
   "source": [
    "data_merged = data_merged.merge(tenure_pivoted, on = 'Output Areas Code', how = 'left')\n",
    "data_merged.head()"
   ]
  },
  {
   "cell_type": "code",
   "execution_count": 27,
   "id": "60ab9665",
   "metadata": {},
   "outputs": [],
   "source": [
    "data_merged.to_csv('data_merged.csv')"
   ]
  }
 ],
 "metadata": {
  "kernelspec": {
   "display_name": "Python 3",
   "language": "python",
   "name": "python3"
  },
  "language_info": {
   "codemirror_mode": {
    "name": "ipython",
    "version": 3
   },
   "file_extension": ".py",
   "mimetype": "text/x-python",
   "name": "python",
   "nbconvert_exporter": "python",
   "pygments_lexer": "ipython3",
   "version": "3.9.11"
  }
 },
 "nbformat": 4,
 "nbformat_minor": 5
}
